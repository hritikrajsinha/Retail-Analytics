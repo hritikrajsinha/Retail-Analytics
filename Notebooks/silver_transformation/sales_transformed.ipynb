{
 "cells": [
  {
   "cell_type": "code",
   "execution_count": 0,
   "metadata": {
    "application/vnd.databricks.v1+cell": {
     "cellMetadata": {
      "byteLimit": 2048000,
      "rowLimit": 10000
     },
     "inputWidgets": {},
     "nuid": "e1ccc6ac-84ed-4cde-b85c-821905f34675",
     "showTitle": false,
     "tableResultSettingsMap": {},
     "title": ""
    }
   },
   "outputs": [],
   "source": [
    "import os\n",
    "import logging\n",
    "import yaml\n",
    "from datetime import datetime\n",
    "from pyspark.sql.functions import(col, coalesce,lit,trim,regexp_replace,to_timestamp,when,from_unixtime,current_timestamp)\n",
    "\n",
    "logging.basicConfig(level=logging.INFO, format='%(asctime)s-%(name)s-%(levelname)s-%(message)s')\n",
    "\n",
    "def safe_load_yaml(file_path):\n",
    "    try:\n",
    "        if not os.path.isfile(file_path):\n",
    "            logging.error(f\"Configuration file not found: {file_path}\")\n",
    "            raise FileNotFoundError (f\"Missing configuration file: {file_path}\")\n",
    "        else:\n",
    "            with open(file_path, 'r') as f:\n",
    "                return yaml.safe_load(f)\n",
    "    except Exception as e:\n",
    "        logging.error(f\"Error loading YAML file: {e}\")\n",
    "        raise\n",
    "\n",
    "def load_bronze_table(catalog,source_schema,source_table):\n",
    "    try:\n",
    "        return spark.read.table(f\"{catalog}.{source_schema}.{source_table}\")\n",
    "        logging.info(f\"bronze table {source_table} loaded successfully into dataframe\")\n",
    "    except Exception as e:\n",
    "        raise RuntimeError(f\"Error loading bronze table: {e}\")\n",
    "\n",
    "def write_silver_table(df,catalog,target_schema,target_table):\n",
    "    try:\n",
    "        df.write.mode(\"overwrite\").InsertInto(f\"{catalog}.{target_schema}.{target_table}\",overwrite=True)\n",
    "        logging.info(f\"silver table {target_table} written successfully\")\n",
    "    except Exception as e:\n",
    "        raise RuntimeError(f\"Error writing silver table {target_table}: {e}\")\n",
    "\n",
    "def normalize_simple_date(df,raw_col,out_col,status_col):\n",
    "    \"\"\"\n",
    "    Simple normalization:\n",
    "        -tries a few common text formats\n",
    "        -tries epoch seconds (10 digits) and epoch miliseconds (13 digits)\n",
    "        -returns df with two new columns: out_col(date) and status_col (how parsed)\n",
    "    \"\"\"\n",
    "    #make sure we have a trimmed string version\n",
    "    df=df.withColumn('_raw',trim(col(raw_col).cast('string')))\n",
    "    #remove surrounding quotes if any\n",
    "    df=df.withColumn('_raw',regexp_replace(col('_raw'),r\"^[\\'\\\"]|[\\'\\\"]$\",\"\"))\n",
    "    #incomplete function\n",
    "\n",
    "#load configs\n",
    "global_config=safe_load_yaml('/Workspace/Users/hritikraj143@gmail.com/Retail-Analytics/Config/global_config.yaml')\n",
    "catalog=global_config['catalog']\n",
    "silver_config=safe_load_yaml('/Workspace/Users/hritikraj143@gmail.com/Retail-Analytics/Config/silver_config.yaml')\n",
    "source_schema=silver_config['silver']['sales_transformed']['source_schema']\n",
    "source_table=silver_config['silver']['sales_transformed']['source_table']\n",
    "target_schema=silver_config['silver']['sales_transformed']['target_schema']\n",
    "target_table=silver_config['silver']['sales_transformed']['target_table']\n",
    "#load bronze table\n",
    "sales_landing=load_bronze_table(catalog,source_schema,source_table)\n",
    "#remove invalid or null orderid rows\n",
    "sales_landing=sales_landing.filter(col('OrderID').isNotNull())\n",
    "sales_landing=sales_landing.withColumn('OrderID',sales_landing['OrderID'].cast('BIGINT'))\n",
    "sales_landing=sales_landing.withColumn('CustomerID',coalesce(col('CustomerID'),lit('UNKNOWN_CUSTOMER')))\n",
    "sales_landing=sales_landing.withColumn('ProductID',coalesce(col('ProductID'),lit('UNKNOWN_PRODUCT')))\n",
    "#new=sales_landing.filter(col('CustomerID')=='UNKNOWN_CUSTOMER')\n",
    "#display(new)\n",
    "#sales_landing.count()\n",
    "display(sales_landing)"
   ]
  }
 ],
 "metadata": {
  "application/vnd.databricks.v1+notebook": {
   "computePreferences": null,
   "dashboards": [],
   "environmentMetadata": {
    "base_environment": "",
    "environment_version": "3"
   },
   "inputWidgetPreferences": null,
   "language": "python",
   "notebookMetadata": {
    "pythonIndentUnit": 4
   },
   "notebookName": "sales_transformed",
   "widgets": {}
  },
  "language_info": {
   "name": "python"
  }
 },
 "nbformat": 4,
 "nbformat_minor": 0
}
