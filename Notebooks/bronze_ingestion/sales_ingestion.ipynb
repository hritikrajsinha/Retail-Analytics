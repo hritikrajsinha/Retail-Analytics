{
 "cells": [
  {
   "cell_type": "code",
   "execution_count": 0,
   "metadata": {
    "application/vnd.databricks.v1+cell": {
     "cellMetadata": {
      "byteLimit": 2048000,
      "rowLimit": 10000
     },
     "inputWidgets": {},
     "nuid": "27670f97-c2f9-4906-9b0f-ada72812217d",
     "showTitle": false,
     "tableResultSettingsMap": {},
     "title": ""
    }
   },
   "outputs": [],
   "source": [
    "def get_s3_data(file_url,file_format):\n",
    "    try:\n",
    "        if file_format=='csv':\n",
    "            df=spark.read.format(file_format).load(file_url,header=True,inferschema=False)\n",
    "        else:\n",
    "            df=spark.read.format(file_format).load(file_url)\n",
    "    except Exception as e:\n",
    "        print('Error in reading the file from s3: ',e)\n",
    "\n",
    "    return df\n",
    "#new comment\n",
    "url='s3://input-files-bank/sales.csv'\n",
    "sales_df=get_s3_data(url,'csv')\n",
    "sales_df.dtypes"
   ]
  }
 ],
 "metadata": {
  "application/vnd.databricks.v1+notebook": {
   "computePreferences": null,
   "dashboards": [],
   "environmentMetadata": {
    "base_environment": "",
    "environment_version": "3"
   },
   "inputWidgetPreferences": null,
   "language": "python",
   "notebookMetadata": {
    "pythonIndentUnit": 4
   },
   "notebookName": "sales_ingestion",
   "widgets": {}
  },
  "language_info": {
   "name": "python"
  }
 },
 "nbformat": 4,
 "nbformat_minor": 0
}
