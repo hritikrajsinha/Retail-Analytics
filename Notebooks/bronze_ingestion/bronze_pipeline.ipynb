{
 "cells": [
  {
   "cell_type": "code",
   "execution_count": 0,
   "metadata": {
    "application/vnd.databricks.v1+cell": {
     "cellMetadata": {
      "byteLimit": 2048000,
      "rowLimit": 10000
     },
     "inputWidgets": {},
     "nuid": "18b9ba4e-ac64-40ef-aa46-89ac05251930",
     "showTitle": false,
     "tableResultSettingsMap": {},
     "title": ""
    }
   },
   "outputs": [],
   "source": [
    "import os\n",
    "import logging\n",
    "import yaml\n",
    "from datetime import datetime\n",
    "\n",
    "logging.basicConfig(level=logging.INFO, format='%(asctime)s-%(name)s-%(levelname)s-%(message)s')\n",
    "\n",
    "def safe_load_yaml(file_path):\n",
    "    try:\n",
    "        if not os.path.isfile(file_path):\n",
    "            logging.error(f\"Configuration file not found: {file_path}\")\n",
    "            raise FileNotFoundError (f\"Missing configuration file: {file_path}\")\n",
    "        else:\n",
    "            with open(file_path, 'r') as f:\n",
    "                return yaml.safe_load(f)\n",
    "    except Exception as e:\n",
    "        logging.error(f\"Error loading YAML file: {e}\")\n",
    "        raise\n",
    "\n",
    "bronze_config=safe_load_yaml('/Workspace/Users/hritikraj143@gmail.com/Retail-Analytics/Config/bronze_config.yaml')\n",
    "\n",
    "for tables,config in bronze_config['bronze'].items():\n",
    "    #display(tables,config['notebook_path'])\n",
    "    logging.info(f\"running the notebook for table:{tables} at path {config['notebook_path']}\")\n",
    "    try:\n",
    "        dbutils.notebook.run(config['notebook_path'],timeout_seconds=0)\n",
    "        logging.info(f\"notebook for table:{tables} completed successfully\")\n",
    "    except Exception as e:\n",
    "        logging.error(f\"Error running notebook for table:{tables} at path {config['notebook_path']}, {e}\")"
   ]
  }
 ],
 "metadata": {
  "application/vnd.databricks.v1+notebook": {
   "computePreferences": null,
   "dashboards": [],
   "environmentMetadata": {
    "base_environment": "",
    "environment_version": "3"
   },
   "inputWidgetPreferences": null,
   "language": "python",
   "notebookMetadata": {
    "pythonIndentUnit": 4
   },
   "notebookName": "bronze_pipeline",
   "widgets": {}
  },
  "language_info": {
   "name": "python"
  }
 },
 "nbformat": 4,
 "nbformat_minor": 0
}
